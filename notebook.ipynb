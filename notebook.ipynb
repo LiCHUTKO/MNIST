{
 "cells": [
  {
   "cell_type": "markdown",
   "metadata": {},
   "source": [
    "# Załadowanie potrzebnych bibliotek\n",
    "W tej sekcji ładujemy wszystkie potrzebne biblioteki, w tym TensorFlow, Keras, Matplotlib, NumPy oraz PIL. Te biblioteki są niezbędne do budowy, trenowania i oceny modelu sieci neuronowej oraz do wizualizacji danych."
   ]
  },
  {
   "cell_type": "code",
   "execution_count": null,
   "metadata": {},
   "outputs": [],
   "source": [
    "import tensorflow as tf\n",
    "from tensorflow.keras.datasets import mnist\n",
    "from tensorflow.keras.models import Sequential\n",
    "from tensorflow.keras.layers import Dense, Flatten\n",
    "from tensorflow.keras.optimizers import Adam\n",
    "from tensorflow.keras.losses import sparse_categorical_crossentropy\n",
    "import matplotlib.pyplot as plt\n",
    "import numpy as np\n",
    "from PIL import Image"
   ]
  },
  {
   "cell_type": "markdown",
   "metadata": {},
   "source": [
    "# Załadowanie i normalizacja danych\n",
    "W tej sekcji ładujemy zbiór danych MNIST, który zawiera ręcznie pisane cyfry. Dane są następnie normalizowane, aby wartości pikseli znajdowały się w zakresie od 0 do 1, co przyspiesza proces trenowania modelu."
   ]
  },
  {
   "cell_type": "code",
   "execution_count": null,
   "metadata": {},
   "outputs": [],
   "source": [
    "# Ładowanie zbioru danych MNIST\n",
    "(x_train, y_train), (x_test, y_test) = mnist.load_data()\n",
    "\n",
    "# Normalizacja danych - przeskalowanie wartości pikseli do zakresu [0, 1]\n",
    "x_train, x_test = x_train / 255.0, x_test / 255.0"
   ]
  },
  {
   "cell_type": "markdown",
   "metadata": {},
   "source": [
    "# Tworzenie modelu\n",
    "W tej sekcji tworzymy model sieci neuronowej za pomocą Sequential API z Keras. Model składa się z warstwy Flatten, która przekształca dane wejściowe 28x28 pikseli na wektor jednowymiarowy, oraz dwóch warstw Dense: pierwsza z 128 neuronami i funkcją aktywacji ReLU, a druga z 10 neuronami i funkcją aktywacji softmax."
   ]
  },
  {
   "cell_type": "code",
   "execution_count": null,
   "metadata": {},
   "outputs": [],
   "source": [
    "# Tworzenie modelu sekwencyjnego\n",
    "model = Sequential([\n",
    "    Flatten(input_shape=(28, 28)),  # Warstwa Flatten przekształca dane wejściowe 28x28 pikseli na wektor jednowymiarowy\n",
    "    Dense(128, activation='relu'),  # Warstwa Dense z 128 neuronami i funkcją aktywacji ReLU\n",
    "    Dense(10, activation='softmax')  # Warstwa Dense z 10 neuronami i funkcją aktywacji softmax\n",
    "])\n",
    "\n",
    "# Wyświetlenie podsumowania modelu\n",
    "model.summary()"
   ]
  },
  {
   "cell_type": "markdown",
   "metadata": {},
   "source": [
    "# Kompilacja i trenowanie\n",
    "W tej sekcji kompilujemy model, określając optymalizator Adam, funkcję straty sparse_categorical_crossentropy oraz metrykę dokładności. Następnie trenujemy model na danych treningowych przez 5 epok, z 20% danych używanych do walidacji."
   ]
  },
  {
   "cell_type": "code",
   "execution_count": null,
   "metadata": {},
   "outputs": [],
   "source": [
    "# Kompilacja modelu z użyciem optymalizatora Adam, funkcji straty sparse_categorical_crossentropy oraz metryki dokładności\n",
    "model.compile(optimizer=Adam(),\n",
    "              loss=sparse_categorical_crossentropy,\n",
    "              metrics=['accuracy'])\n",
    "\n",
    "# Trenowanie modelu na danych treningowych przez 5 epok, z 20% danych używanych do walidacji\n",
    "model.fit(x_train,\n",
    "          y_train,\n",
    "          validation_split=0.2,\n",
    "          epochs=5)"
   ]
  },
  {
   "cell_type": "markdown",
   "metadata": {},
   "source": [
    "# Testowanie i wyniki\n",
    "W tej sekcji oceniamy model na zbiorze testowym, aby sprawdzić jego dokładność. Wynik jest wyświetlany jako procentowa dokładność modelu."
   ]
  },
  {
   "cell_type": "code",
   "execution_count": null,
   "metadata": {},
   "outputs": [],
   "source": [
    "# Ocena modelu na zbiorze testowym\n",
    "test_loss, test_acc = model.evaluate(x_test, y_test)\n",
    "\n",
    "# Wyświetlenie dokładności modelu\n",
    "print(f\"Dokładność modelu: {test_acc * 100:.2f}%\")"
   ]
  },
  {
   "cell_type": "markdown",
   "metadata": {},
   "source": [
    "# Predykcja z wizualizacja\n",
    "W tej sekcji dokonujemy predykcji na kilku przykładach z zestawu testowego. Każdy obraz jest wyświetlany, a następnie model przewiduje, jaka cyfra jest na obrazie. Przewidywana wartość oraz rzeczywista wartość są wyświetlane."
   ]
  },
  {
   "cell_type": "code",
   "execution_count": null,
   "metadata": {},
   "outputs": [],
   "source": [
    "# Indeksy przykładów do predykcji\n",
    "example_index = [0, 1, 2, 3, 4, 5, 6, 7, 8, 9]\n",
    "\n",
    "# Pętla przez wybrane przykłady\n",
    "for i in example_index:\n",
    "    # Wyświetlenie obrazu\n",
    "    plt.imshow(x_test[i], cmap='gray')\n",
    "    plt.show()\n",
    "    \n",
    "    # Dokonanie predykcji\n",
    "    prediction = model.predict(x_test[i].reshape(1, 28, 28))\n",
    "    \n",
    "    # Wyświetlenie przewidywanej i rzeczywistej wartości\n",
    "    print(f\"Przewidziana wartość: {np.argmax(prediction)}\")\n",
    "    print(f\"Wartość rzeczywista: {y_test[i]}\")\n",
    "    print()"
   ]
  },
  {
   "cell_type": "markdown",
   "metadata": {},
   "source": [
    "# Własny przykład liczby\n",
    "W tej sekcji ładujemy własny obraz liczby, przekształcamy go na odpowiedni format i dokonujemy predykcji za pomocą modelu. Obraz jest wyświetlany, a przewidywana etykieta jest wyświetlana."
   ]
  },
  {
   "cell_type": "code",
   "execution_count": null,
   "metadata": {},
   "outputs": [],
   "source": [
    "# Ścieżka do obrazu liczby\n",
    "image_path = 'paint.png'\n",
    "\n",
    "# Ładowanie obrazu i konwersja do skali szarości\n",
    "image = Image.open(image_path).convert('L')\n",
    "\n",
    "# Zmiana rozmiaru obrazu do 28x28 pikseli\n",
    "image = image.resize((28, 28))\n",
    "\n",
    "# Konwersja obrazu do tablicy NumPy i normalizacja wartości pikseli\n",
    "image_array = np.array(image) / 255.0\n",
    "\n",
    "# Wyświetlenie obrazu\n",
    "plt.imshow(image_array, cmap='gray')\n",
    "plt.show()\n",
    "\n",
    "# Przekształcenie tablicy obrazu do odpowiedniego kształtu (1, 28, 28)\n",
    "image_array = image_array.reshape(1, 28, 28)\n",
    "\n",
    "# Dokonanie predykcji za pomocą modelu\n",
    "prediction = model.predict(image_array)\n",
    "\n",
    "# Wyznaczenie przewidywanej etykiety\n",
    "predicted_label = np.argmax(prediction)\n",
    "\n",
    "# Wyświetlenie przewidywanej etykiety\n",
    "print(f'Przewidywana etykieta: {predicted_label}')"
   ]
  }
 ],
 "metadata": {
  "language_info": {
   "name": "python"
  }
 },
 "nbformat": 4,
 "nbformat_minor": 2
}
